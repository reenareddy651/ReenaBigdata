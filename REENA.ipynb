{
  "nbformat": 4,
  "nbformat_minor": 0,
  "metadata": {
    "colab": {
      "provenance": [],
      "toc_visible": true
    },
    "kernelspec": {
      "name": "python3",
      "display_name": "Python 3"
    },
    "language_info": {
      "name": "python"
    }
  },
  "cells": [
    {
      "cell_type": "code",
      "source": [
        "!pip install cassandra-driver\n",
        "\n",
        "from cassandra.cluster import Cluster\n",
        "from cassandra.auth import PlainTextAuthProvider\n",
        "import json\n",
        "\n",
        "cloud_config= {\n",
        "  'secure_connect_bundle': '/content/secure-connect-reena-mula.zip'\n",
        "}\n",
        "\n",
        "\n",
        "with open(\"/content/Reena Mula-token.json\") as f:\n",
        "    secrets = json.load(f)\n",
        "\n",
        "CLIENT_ID = secrets[\"clientId\"]\n",
        "CLIENT_SECRET = secrets[\"secret\"]\n",
        "\n",
        "auth_provider = PlainTextAuthProvider(CLIENT_ID, CLIENT_SECRET)\n",
        "cluster = Cluster(cloud=cloud_config, auth_provider=auth_provider)\n",
        "session = cluster.connect()\n",
        "\n",
        "row = session.execute(\"select release_version from system.local\").one()\n",
        "if row:\n",
        "  print(row[0])\n",
        "  print(\"connected to cassandra\")\n",
        "else:\n",
        "  print(\"An error occurred.\")"
      ],
      "metadata": {
        "colab": {
          "base_uri": "https://localhost:8080/"
        },
        "id": "RzuM30o0zWDo",
        "outputId": "1098a991-b2e5-42c0-bd58-648f35122ab1"
      },
      "execution_count": 5,
      "outputs": [
        {
          "output_type": "stream",
          "name": "stdout",
          "text": [
            "Requirement already satisfied: cassandra-driver in /usr/local/lib/python3.10/dist-packages (3.29.2)\n",
            "Requirement already satisfied: geomet<0.3,>=0.1 in /usr/local/lib/python3.10/dist-packages (from cassandra-driver) (0.2.1.post1)\n",
            "Requirement already satisfied: click in /usr/local/lib/python3.10/dist-packages (from geomet<0.3,>=0.1->cassandra-driver) (8.1.7)\n",
            "Requirement already satisfied: six in /usr/local/lib/python3.10/dist-packages (from geomet<0.3,>=0.1->cassandra-driver) (1.16.0)\n"
          ]
        },
        {
          "output_type": "stream",
          "name": "stderr",
          "text": [
            "WARNING:cassandra.cluster:Downgrading core protocol version from 66 to 65 for 233c70b0-27a1-4816-8846-6f3d5ca6a576-us-east1.db.astra.datastax.com:29042:190dafab-6970-3a67-a21c-1226360de7dc. To avoid this, it is best practice to explicitly set Cluster(protocol_version) to the version supported by your cluster. http://datastax.github.io/python-driver/api/cassandra/cluster.html#cassandra.cluster.Cluster.protocol_version\n",
            "WARNING:cassandra.cluster:Downgrading core protocol version from 65 to 5 for 233c70b0-27a1-4816-8846-6f3d5ca6a576-us-east1.db.astra.datastax.com:29042:190dafab-6970-3a67-a21c-1226360de7dc. To avoid this, it is best practice to explicitly set Cluster(protocol_version) to the version supported by your cluster. http://datastax.github.io/python-driver/api/cassandra/cluster.html#cassandra.cluster.Cluster.protocol_version\n",
            "WARNING:cassandra.cluster:Downgrading core protocol version from 5 to 4 for 233c70b0-27a1-4816-8846-6f3d5ca6a576-us-east1.db.astra.datastax.com:29042:190dafab-6970-3a67-a21c-1226360de7dc. To avoid this, it is best practice to explicitly set Cluster(protocol_version) to the version supported by your cluster. http://datastax.github.io/python-driver/api/cassandra/cluster.html#cassandra.cluster.Cluster.protocol_version\n"
          ]
        },
        {
          "output_type": "stream",
          "name": "stdout",
          "text": [
            "4.0.0.6816\n",
            "connected to cassandra\n"
          ]
        }
      ]
    },
    {
      "cell_type": "code",
      "source": [
        "keyspace = \"medallion_architecture\"\n",
        "session.set_keyspace(keyspace)\n",
        "print(\"keyspace is set to medallion architecture\")"
      ],
      "metadata": {
        "colab": {
          "base_uri": "https://localhost:8080/"
        },
        "id": "V4LhyQTe0sMO",
        "outputId": "386eb920-4944-4217-beaa-6615b7d88366"
      },
      "execution_count": 8,
      "outputs": [
        {
          "output_type": "stream",
          "name": "stdout",
          "text": [
            "keyspace is set to medallion architecture\n"
          ]
        }
      ]
    },
    {
      "cell_type": "code",
      "source": [
        "def drop_table(session, keyspace, table_name):\n",
        "    query = \"SELECT table_name FROM system_schema.tables WHERE keyspace_name = %s AND table_name = %s\"\n",
        "    result = session.execute(query, (keyspace, table_name))\n",
        "\n",
        "    if result.current_rows:\n",
        "        print(f\"Table '{table_name}' already exists in keyspace '{keyspace}'. Dropping it...\")\n",
        "        drop_query = f\"DROP TABLE {table_name}\"\n",
        "        session.execute(drop_query)\n",
        "        print(f\"Table '{table_name}' dropped successfully.\")\n",
        "    else:\n",
        "        print(f\"Table '{table_name}' does not exist. Ready to create a new table.\")"
      ],
      "metadata": {
        "id": "UDv-js7P54Qi"
      },
      "execution_count": 9,
      "outputs": []
    },
    {
      "cell_type": "code",
      "source": [
        "drop_table(session,keyspace,\"bronze_sales_data\")\n",
        "session.execute(\"\"\"\n",
        "    CREATE TABLE IF NOT EXISTS bronze_sales_data (\n",
        "        region TEXT,\n",
        "        country TEXT,\n",
        "        item_type TEXT,\n",
        "        sales_channel TEXT,\n",
        "        order_priority TEXT,\n",
        "        order_date TEXT,  -- Use TEXT for date; adjust as needed\n",
        "        order_id TEXT PRIMARY KEY,  -- Unique order ID\n",
        "        ship_date TEXT,\n",
        "        units_sold INT,\n",
        "        unit_price FLOAT,\n",
        "        unit_cost FLOAT,\n",
        "        total_revenue FLOAT,\n",
        "        total_cost FLOAT,\n",
        "        total_profit FLOAT\n",
        "    )\n",
        "\"\"\")\n",
        "\n",
        "print(\"Connected to Astra DB and Bronze table created successfully!\")\n"
      ],
      "metadata": {
        "colab": {
          "base_uri": "https://localhost:8080/"
        },
        "id": "M1V8ZCk_6crX",
        "outputId": "7f3485bd-ad11-417e-b47a-32a15a91778a"
      },
      "execution_count": 13,
      "outputs": [
        {
          "output_type": "stream",
          "name": "stdout",
          "text": [
            "Table 'bronze_sales_data' already exists in keyspace 'medallion_architecture'. Dropping it...\n",
            "Table 'bronze_sales_data' dropped successfully.\n",
            "Connected to Astra DB and Bronze table created successfully!\n"
          ]
        }
      ]
    },
    {
      "cell_type": "code",
      "source": [
        "import csv\n",
        "csv_file = \"/content/sales_100.csv\"\n",
        "\n",
        "\n",
        "with open(csv_file, 'r') as file:\n",
        "    reader = csv.DictReader(file)\n",
        "    for row in reader:\n",
        "        session.execute(\"\"\"\n",
        "            INSERT INTO bronze_sales_data (\n",
        "                region, country, item_type, sales_channel,\n",
        "                order_priority, order_date, order_id, ship_date,\n",
        "                units_sold, unit_price, unit_cost,\n",
        "                total_revenue, total_cost, total_profit\n",
        "            )\n",
        "            VALUES (%s, %s, %s, %s, %s, %s, %s, %s, %s, %s, %s, %s, %s, %s)\n",
        "        \"\"\", (\n",
        "            row['Region'], row['Country'], row['Item Type'], row['Sales Channel'],\n",
        "            row['Order Priority'], row['Order Date'], row['Order ID'], row['Ship Date'],\n",
        "            int(row['UnitsSold']), float(row['UnitPrice']), float(row['UnitCost']),\n",
        "            float(row['TotalRevenue']), float(row['TotalCost']), float(row['TotalProfit'])\n",
        "        ))\n",
        "\n",
        "print(\"Data inserted into Bronze table on Astra DB successfully!\")"
      ],
      "metadata": {
        "colab": {
          "base_uri": "https://localhost:8080/"
        },
        "id": "_juKZu5a6z47",
        "outputId": "f0b3f77f-df3f-40cf-c5da-721339e17631"
      },
      "execution_count": 15,
      "outputs": [
        {
          "output_type": "stream",
          "name": "stdout",
          "text": [
            "Data inserted into Bronze table on Astra DB successfully!\n"
          ]
        }
      ]
    },
    {
      "cell_type": "code",
      "source": [
        "data = session.execute(\"SELECT * FROM bronze_sales_data LIMIT 10\")\n",
        "for i in data:\n",
        "    print(i)"
      ],
      "metadata": {
        "colab": {
          "base_uri": "https://localhost:8080/"
        },
        "id": "3KHDz9pR73fU",
        "outputId": "f5791ce6-03d4-4e8e-cbe7-697361eac0e1"
      },
      "execution_count": 16,
      "outputs": [
        {
          "output_type": "stream",
          "name": "stdout",
          "text": [
            "Row(order_id='940980136', country='New Zealand', item_type='Beverages', order_date='10/11/2012', order_priority='M', region='Australia and Oceania', sales_channel='Online', ship_date='11/4/2012', total_cost=184000.515625, total_profit=90640.078125, total_revenue=274640.59375, unit_cost=31.790000915527344, unit_price=47.45000076293945, units_sold=5788)\n",
            "Row(order_id='363086831', country='Mali', item_type='Household', order_date='8/19/2010', order_priority='M', region='Sub-Saharan Africa', sales_channel='Offline', ship_date='9/7/2010', total_cost=2169465.25, total_profit=715456.4375, total_revenue=2884921.5, unit_cost=502.5400085449219, unit_price=668.27001953125, units_sold=4317)\n",
            "Row(order_id='176461303', country='Singapore', item_type='Snacks', order_date='1/28/2013', order_priority='C', region='Asia', sales_channel='Online', ship_date='2/7/2013', total_cost=747949.4375, total_profit=423254.625, total_revenue=1171204.125, unit_cost=97.44000244140625, unit_price=152.5800018310547, units_sold=7676)\n",
            "Row(order_id='438011872', country='Dominica', item_type='Beverages', order_date='6/12/2012', order_priority='L', region='Central America and the Caribbean', sales_channel='Online', ship_date='7/18/2012', total_cost=200308.796875, total_profit=98673.65625, total_revenue=298982.4375, unit_cost=31.790000915527344, unit_price=47.45000076293945, units_sold=6301)\n",
            "Row(order_id='135178029', country='United Kingdom', item_type='Cosmetics', order_date='5/1/2015', order_priority='L', region='Europe', sales_channel='Online', ship_date='5/16/2015', total_cost=273336.53125, total_profit=180477.0625, total_revenue=453813.59375, unit_cost=263.3299865722656, unit_price=437.20001220703125, units_sold=1038)\n",
            "Row(order_id='488121116', country='The Bahamas', item_type='Fruits', order_date='6/18/2010', order_priority='L', region='Central America and the Caribbean', sales_channel='Offline', ship_date='6/30/2010', total_cost=32800.80078125, total_profit=11423.400390625, total_revenue=44224.19921875, unit_cost=6.920000076293945, unit_price=9.329999923706055, units_sold=4740)\n",
            "Row(order_id='845056617', country='Netherlands', item_type='Fruits', order_date='11/19/2016', order_priority='L', region='Europe', sales_channel='Online', ship_date='11/30/2016', total_cost=68418.0390625, total_profit=23827.669921875, total_revenue=92245.7109375, unit_cost=6.920000076293945, unit_price=9.329999923706055, units_sold=9887)\n",
            "Row(order_id='667593514', country='Morocco', item_type='Clothes', order_date='9/14/2013', order_priority='M', region='Middle East and North Africa', sales_channel='Online', ship_date='10/19/2013', total_cost=165258.234375, total_profit=338631.84375, total_revenue=503890.09375, unit_cost=35.84000015258789, unit_price=109.27999877929688, units_sold=4611)\n",
            "Row(order_id='425793445', country='Seychelles ', item_type='Beverages', order_date='1/18/2013', order_priority='M', region='Sub-Saharan Africa', sales_channel='Online', ship_date='2/16/2013', total_cost=18978.630859375, total_profit=9349.01953125, total_revenue=28327.650390625, unit_cost=31.790000915527344, unit_price=47.45000076293945, units_sold=597)\n",
            "Row(order_id='467399013', country='Monaco', item_type='Beverages', order_date='5/29/2016', order_priority='M', region='Europe', sales_channel='Offline', ship_date='6/14/2016', total_cost=82940.109375, total_profit=40856.94140625, total_revenue=123797.046875, unit_cost=31.790000915527344, unit_price=47.45000076293945, units_sold=2609)\n"
          ]
        }
      ]
    },
    {
      "cell_type": "code",
      "source": [
        "drop_table(session,keyspace,\"silver_sales_data\")\n",
        "session.execute(f\"\"\"\n",
        "    CREATE TABLE IF NOT EXISTS silver_sales_data (\n",
        "        region TEXT,\n",
        "        country TEXT,\n",
        "        item_type TEXT,\n",
        "        sales_channel TEXT,\n",
        "        order_date DATE,\n",
        "        order_id TEXT PRIMARY KEY,  -- Ensure uniqueness\n",
        "        ship_date DATE,\n",
        "        units_sold INT,\n",
        "        unit_price FLOAT,\n",
        "        total_profit FLOAT\n",
        "    )\n",
        "\"\"\")\n",
        "print(f\"Silver table 'silver_sales_data' created successfully!\")\n",
        "\n",
        "silver_table = \"silver_sales_data\"\n",
        "bronze_table = \"bronze_sales_data\"\n",
        "\n",
        "def parse_date(date_str):\n",
        "    \"\"\"Parse date from 'mm/dd/yyyy' format.\"\"\"\n",
        "    try:\n",
        "        return datetime.strptime(date_str, \"%m/%d/%Y\").date()\n",
        "    except Exception as e:\n",
        "        print(f\"Error parsing date '{date_str}': {e}\")\n",
        "        return None\n",
        "\n",
        "def is_valid_row(row):\n",
        "    \"\"\"Validate row for critical fields and business rules.\"\"\"\n",
        "    if not row.order_id or not row.order_date or not row.total_profit:\n",
        "        return False\n",
        "\n",
        "    if row.units_sold is None or row.total_profit is None or row.units_sold < 0 or row.total_profit < 0:\n",
        "        return False\n",
        "\n",
        "    if parse_date(row.order_date) is None or parse_date(row.ship_date) is None:\n",
        "        return False\n",
        "\n",
        "    return True\n",
        "\n",
        "def clean_text(text):\n",
        "    \"\"\"Normalize and clean text fields (e.g., capitalize).\"\"\"\n",
        "    return text.strip().title() if text else None\n",
        "\n",
        "rows = session.execute(f\"SELECT * FROM {bronze_table}\")\n",
        "\n",
        "for row in rows:\n",
        "    if is_valid_row(row):\n",
        "        order_date = parse_date(row.order_date)\n",
        "        ship_date = parse_date(row.ship_date)\n",
        "        region = clean_text(row.region)\n",
        "        country = clean_text(row.country)\n",
        "        item_type = clean_text(row.item_type)\n",
        "        sales_channel = clean_text(row.sales_channel)\n",
        "\n",
        "\n",
        "        session.execute(f\"\"\"\n",
        "            INSERT INTO {silver_table} (\n",
        "                region, country, item_type, sales_channel,\n",
        "                order_date, order_id, ship_date,\n",
        "                units_sold, unit_price, total_profit\n",
        "            )\n",
        "            VALUES (%s, %s, %s, %s, %s, %s, %s, %s, %s, %s)\n",
        "        \"\"\", (\n",
        "            region, country, item_type, sales_channel,\n",
        "            order_date, row.order_id, ship_date,\n",
        "            row.units_sold, row.unit_price, row.total_profit\n",
        "        ))\n",
        "\n",
        "print(\"Data transformed and loaded into Silver table successfully!\")\n",
        "\n",
        "\n",
        "\n"
      ],
      "metadata": {
        "colab": {
          "base_uri": "https://localhost:8080/"
        },
        "id": "FqrDdlij-Cpk",
        "outputId": "2af83dc2-a79b-4160-8e41-9c587394e8bb"
      },
      "execution_count": 36,
      "outputs": [
        {
          "output_type": "stream",
          "name": "stdout",
          "text": [
            "Table 'silver_sales_data' already exists in keyspace 'medallion_architecture'. Dropping it...\n",
            "Table 'silver_sales_data' dropped successfully.\n",
            "Silver table 'silver_sales_data' created successfully!\n",
            "Data transformed and loaded into Silver table successfully!\n"
          ]
        }
      ]
    },
    {
      "cell_type": "code",
      "source": [
        "data = session.execute(\"SELECT * FROM silver_sales_data LIMIT 10\")\n",
        "for i in data:\n",
        "    print(i)"
      ],
      "metadata": {
        "colab": {
          "base_uri": "https://localhost:8080/"
        },
        "id": "YA2VyahQ_UVQ",
        "outputId": "1dc13994-039a-47e4-b99c-ed0acdbe3241"
      },
      "execution_count": 38,
      "outputs": [
        {
          "output_type": "stream",
          "name": "stdout",
          "text": [
            "Row(order_id='940980136', country='New Zealand', item_type='Beverages', order_date=Date(15624), region='Australia And Oceania', sales_channel='Online', ship_date=Date(15648), total_profit=90640.078125, unit_price=47.45000076293945, units_sold=5788)\n",
            "Row(order_id='363086831', country='Mali', item_type='Household', order_date=Date(14840), region='Sub-Saharan Africa', sales_channel='Offline', ship_date=Date(14859), total_profit=715456.4375, unit_price=668.27001953125, units_sold=4317)\n",
            "Row(order_id='176461303', country='Singapore', item_type='Snacks', order_date=Date(15733), region='Asia', sales_channel='Online', ship_date=Date(15743), total_profit=423254.625, unit_price=152.5800018310547, units_sold=7676)\n",
            "Row(order_id='438011872', country='Dominica', item_type='Beverages', order_date=Date(15503), region='Central America And The Caribbean', sales_channel='Online', ship_date=Date(15539), total_profit=98673.65625, unit_price=47.45000076293945, units_sold=6301)\n",
            "Row(order_id='135178029', country='United Kingdom', item_type='Cosmetics', order_date=Date(16556), region='Europe', sales_channel='Online', ship_date=Date(16571), total_profit=180477.0625, unit_price=437.20001220703125, units_sold=1038)\n",
            "Row(order_id='488121116', country='The Bahamas', item_type='Fruits', order_date=Date(14778), region='Central America And The Caribbean', sales_channel='Offline', ship_date=Date(14790), total_profit=11423.400390625, unit_price=9.329999923706055, units_sold=4740)\n",
            "Row(order_id='845056617', country='Netherlands', item_type='Fruits', order_date=Date(17124), region='Europe', sales_channel='Online', ship_date=Date(17135), total_profit=23827.669921875, unit_price=9.329999923706055, units_sold=9887)\n",
            "Row(order_id='667593514', country='Morocco', item_type='Clothes', order_date=Date(15962), region='Middle East And North Africa', sales_channel='Online', ship_date=Date(15997), total_profit=338631.84375, unit_price=109.27999877929688, units_sold=4611)\n",
            "Row(order_id='425793445', country='Seychelles', item_type='Beverages', order_date=Date(15723), region='Sub-Saharan Africa', sales_channel='Online', ship_date=Date(15752), total_profit=9349.01953125, unit_price=47.45000076293945, units_sold=597)\n",
            "Row(order_id='467399013', country='Monaco', item_type='Beverages', order_date=Date(16950), region='Europe', sales_channel='Offline', ship_date=Date(16966), total_profit=40856.94140625, unit_price=47.45000076293945, units_sold=2609)\n"
          ]
        }
      ]
    },
    {
      "cell_type": "code",
      "source": [
        "\n",
        "create_regional_sales = \"\"\"\n",
        "CREATE TABLE IF NOT EXISTS regional_sales (\n",
        "            region TEXT,\n",
        "            country TEXT,\n",
        "            total_units_sold INT,\n",
        "            total_revenue FLOAT,\n",
        "            PRIMARY KEY (region, country)\n",
        "        )\n",
        "\"\"\"\n",
        "\n",
        "create_channel_analysis = \"\"\"\n",
        "CREATE TABLE IF NOT EXISTS channel_analysis (\n",
        "            sales_channel TEXT,\n",
        "            total_units_sold INT,\n",
        "            total_profit FLOAT,\n",
        "            PRIMARY KEY (sales_channel)\n",
        "        )\n",
        "\"\"\"\n",
        "\n",
        "create_profitability_insights = \"\"\"\n",
        "CREATE TABLE IF NOT EXISTS profitability_insights (\n",
        "            order_id TEXT PRIMARY KEY,\n",
        "            total_profit FLOAT\n",
        "        )\n",
        "\"\"\"\n",
        "\n",
        "drop_table(session,keyspace,\"regional_sales\")\n",
        "session.execute(create_regional_sales)\n",
        "print(\"Created gold table: regional_sales\")\n",
        "\n",
        "drop_table(session,keyspace,\"channel_analysis\")\n",
        "session.execute(create_channel_analysis)\n",
        "print(\"Created gold table: channel_analysis\")\n",
        "\n",
        "\n",
        "drop_table(session,keyspace,\"profitability_insights\")\n",
        "session.execute(create_profitability_insights)\n",
        "print(\"Created gold table: profitability_insights\")"
      ],
      "metadata": {
        "colab": {
          "base_uri": "https://localhost:8080/"
        },
        "id": "YSkapMOtFFlh",
        "outputId": "6afc03e2-7a8b-4a8c-e8fb-649d1367f5f4"
      },
      "execution_count": 32,
      "outputs": [
        {
          "output_type": "stream",
          "name": "stdout",
          "text": [
            "Table 'regional_sales' already exists in keyspace 'medallion_architecture'. Dropping it...\n",
            "Table 'regional_sales' dropped successfully.\n",
            "Created gold table: regional_sales\n",
            "Table 'channel_analysis' already exists in keyspace 'medallion_architecture'. Dropping it...\n",
            "Table 'channel_analysis' dropped successfully.\n",
            "Created gold table: channel_analysis\n",
            "Table 'profitability_insights' already exists in keyspace 'medallion_architecture'. Dropping it...\n",
            "Table 'profitability_insights' dropped successfully.\n",
            "Created gold table: profitability_insights\n"
          ]
        }
      ]
    },
    {
      "cell_type": "code",
      "source": [
        "import pandas as pd\n",
        "rows = session.execute(\"SELECT region, country, units_sold, unit_price FROM silver_sales_data\")\n",
        "\n",
        "\n",
        "\n",
        "regional_sales = {}\n",
        "\n",
        "for row in rows:\n",
        "    key = (row.region, row.country)\n",
        "    if key not in regional_sales:\n",
        "        regional_sales[key] = {\"total_units_sold\": 0, \"total_revenue\": 0.0}\n",
        "\n",
        "    regional_sales[key][\"total_units_sold\"] += row.units_sold\n",
        "    regional_sales[key][\"total_revenue\"] += row.units_sold * row.unit_price\n",
        "\n",
        "\n",
        "for (region, country), metrics in regional_sales.items():\n",
        "    session.execute(\"\"\"\n",
        "        INSERT INTO regional_sales (region, country, total_units_sold, total_revenue)\n",
        "        VALUES (%s, %s, %s, %s)\n",
        "    \"\"\", (region, country, metrics[\"total_units_sold\"], metrics[\"total_revenue\"]))\n",
        "\n",
        "print(\"Data loaded into regional_sales table successfully!\")\n",
        "data = session.execute(\"SELECT * FROM regional_sales LIMIT 10\")\n",
        "for i in data:\n",
        "    print(i)\n"
      ],
      "metadata": {
        "colab": {
          "base_uri": "https://localhost:8080/"
        },
        "id": "xRSGFtYSGA7e",
        "outputId": "32a132f0-4ad7-42d4-cde7-8b7035d22520"
      },
      "execution_count": 50,
      "outputs": [
        {
          "output_type": "stream",
          "name": "stdout",
          "text": [
            "Data loaded into regional_sales table successfully!\n",
            "Row(region='Europe', country='Albania', total_revenue=2140268.5, total_units_sold=9433)\n",
            "Row(region='Europe', country='Belgium', total_revenue=231050.71875, total_units_sold=2827)\n",
            "Row(region='Europe', country='Czech Republic', total_revenue=4003440.5, total_units_sold=9157)\n",
            "Row(region='Europe', country='Estonia', total_revenue=6666661.5, total_units_sold=9976)\n",
            "Row(region='Europe', country='Finland', total_revenue=5552598.0, total_units_sold=8846)\n",
            "Row(region='Europe', country='France', total_revenue=2517397.75, total_units_sold=5758)\n",
            "Row(region='Europe', country='Greece', total_revenue=1784241.75, total_units_sold=8674)\n",
            "Row(region='Europe', country='Iceland', total_revenue=628499.375, total_units_sold=2462)\n",
            "Row(region='Europe', country='Italy', total_revenue=3996349.0, total_units_sold=13119)\n",
            "Row(region='Europe', country='Moldova', total_revenue=34856.87890625, total_units_sold=3736)\n"
          ]
        }
      ]
    },
    {
      "cell_type": "code",
      "source": [
        "query = \"SELECT order_id, sales_channel, units_sold, total_profit FROM silver_sales_data\"\n",
        "rows = session.execute(query)\n",
        "\n",
        "df = pd.DataFrame(rows, columns=['order_id', 'sales_channel', 'units_sold', 'total_profit'])\n",
        "\n",
        "channel_analysis_df = df.groupby('sales_channel').agg(\n",
        "    total_units_sold=('units_sold', 'sum'),\n",
        "    total_profit=('total_profit', 'sum')\n",
        ").reset_index()\n",
        "\n",
        "for _, row in channel_analysis_df.iterrows():\n",
        "    session.execute(\"\"\"\n",
        "        INSERT INTO channel_analysis (sales_channel, total_units_sold, total_profit)\n",
        "        VALUES (%s, %s, %s)\n",
        "    \"\"\", (row['sales_channel'], row['total_units_sold'], row['total_profit']))\n",
        "\n",
        "print(\"Data loaded into channel_analysis table successfully!\")\n",
        "data = session.execute(\"SELECT * FROM channel_analysis LIMIT 10\")\n",
        "for i in data:\n",
        "    print(i)"
      ],
      "metadata": {
        "colab": {
          "base_uri": "https://localhost:8080/"
        },
        "id": "zrHLO5ojSDIf",
        "outputId": "0290c913-d208-4dda-a481-381c1e8a948e"
      },
      "execution_count": 47,
      "outputs": [
        {
          "output_type": "stream",
          "name": "stdout",
          "text": [
            "Data loaded into channel_analysis table successfully!\n",
            "Row(sales_channel='Online', total_profit=24963806.0, total_units_sold=308320)\n",
            "Row(sales_channel='Offline', total_profit=16363386.0, total_units_sold=186490)\n"
          ]
        }
      ]
    },
    {
      "cell_type": "code",
      "source": [
        "query = \"SELECT order_id, sales_channel, units_sold, total_profit FROM silver_sales_data\"\n",
        "rows = session.execute(query)\n",
        "\n",
        "df = pd.DataFrame(rows, columns=['order_id', 'sales_channel', 'units_sold', 'total_profit'])\n",
        "profitability_insights_df = df.sort_values(by='total_profit', ascending=False).head(100)\n",
        "\n",
        "for _, row in profitability_insights_df.iterrows():\n",
        "    session.execute(\"\"\"\n",
        "        INSERT INTO profitability_insights (order_id, total_profit)\n",
        "        VALUES (%s, %s)\n",
        "    \"\"\", (row['order_id'], row['total_profit']))\n",
        "\n",
        "print(\"Data loaded into profitability_insights table successfully!\")\n",
        "data = session.execute(\"SELECT * FROM profitability_insights LIMIT 10\")\n",
        "for i in data:\n",
        "    print(i)"
      ],
      "metadata": {
        "colab": {
          "base_uri": "https://localhost:8080/"
        },
        "id": "8zs9xqrASbPW",
        "outputId": "5a77e4d0-9861-4daa-981a-35e30f05d0b1"
      },
      "execution_count": 49,
      "outputs": [
        {
          "output_type": "stream",
          "name": "stdout",
          "text": [
            "Data loaded into profitability_insights table successfully!\n",
            "Row(order_id='940980136', total_profit=90640.078125)\n",
            "Row(order_id='363086831', total_profit=715456.4375)\n",
            "Row(order_id='176461303', total_profit=423254.625)\n",
            "Row(order_id='438011872', total_profit=98673.65625)\n",
            "Row(order_id='135178029', total_profit=180477.0625)\n",
            "Row(order_id='488121116', total_profit=11423.400390625)\n",
            "Row(order_id='845056617', total_profit=23827.669921875)\n",
            "Row(order_id='667593514', total_profit=338631.84375)\n",
            "Row(order_id='425793445', total_profit=9349.01953125)\n",
            "Row(order_id='467399013', total_profit=40856.94140625)\n"
          ]
        }
      ]
    }
  ]
}